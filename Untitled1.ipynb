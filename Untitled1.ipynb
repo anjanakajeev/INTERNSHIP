{
  "nbformat": 4,
  "nbformat_minor": 0,
  "metadata": {
    "colab": {
      "provenance": []
    },
    "kernelspec": {
      "name": "python3",
      "display_name": "Python 3"
    },
    "language_info": {
      "name": "python"
    }
  },
  "cells": [
    {
      "cell_type": "code",
      "execution_count": 1,
      "metadata": {
        "colab": {
          "base_uri": "https://localhost:8080/"
        },
        "id": "Ty-enFQMFqAS",
        "outputId": "2f40bfbd-4edb-4422-f724-0c5c82faa8df"
      },
      "outputs": [
        {
          "output_type": "stream",
          "name": "stdout",
          "text": [
            "I can eat!\n",
            "I can sleep!\n",
            "I can bark! Woof woof!!\n"
          ]
        }
      ],
      "source": [
        "#OOPS\n",
        "#Inheritance\n",
        "# base class\n",
        "class Animal:\n",
        "\n",
        "    def eat(self):\n",
        "        print( \"I can eat!\")\n",
        "\n",
        "    def sleep(self):\n",
        "        print(\"I can sleep!\")\n",
        "\n",
        "# derived class\n",
        "class Dog(Animal):\n",
        "\n",
        "    def bark(self):\n",
        "        print(\"I can bark! Woof woof!!\")\n",
        "\n",
        "# Create object of the Dog class\n",
        "dog1 = Dog()\n",
        "\n",
        "# Calling members of the base class\n",
        "dog1.eat()\n",
        "dog1.sleep()\n",
        "\n",
        "# Calling member of the derived class\n",
        "dog1.bark();\n"
      ]
    },
    {
      "cell_type": "code",
      "source": [
        "#ENCAPSULATION\n",
        "class Computer:\n",
        "\n",
        "    def __init__(self):\n",
        "        self.__maxprice = 900\n",
        "\n",
        "    def sell(self):\n",
        "        print(\"Selling Price: {}\".format(self.__maxprice))\n",
        "\n",
        "    def setMaxPrice(self, price):\n",
        "        self.__maxprice = price\n",
        "\n",
        "c = Computer()\n",
        "c.sell()\n",
        "\n",
        "# change the price\n",
        "c.__maxprice = 1000\n",
        "c.sell()\n",
        "\n",
        "# using setter function\n",
        "c.setMaxPrice(1000)\n",
        "c.sell()"
      ],
      "metadata": {
        "colab": {
          "base_uri": "https://localhost:8080/"
        },
        "id": "tuMCPgkEF23W",
        "outputId": "4d41a7dc-c319-4032-c77e-335594c79252"
      },
      "execution_count": 2,
      "outputs": [
        {
          "output_type": "stream",
          "name": "stdout",
          "text": [
            "Selling Price: 900\n",
            "Selling Price: 900\n",
            "Selling Price: 1000\n"
          ]
        }
      ]
    },
    {
      "cell_type": "code",
      "source": [
        "#Polymorphism\n",
        "\n",
        "class Polygon:\n",
        "    # method to render a shape\n",
        "    def render(self):\n",
        "        print(\"Rendering Polygon...\")\n",
        "\n",
        "class Square(Polygon):\n",
        "    # renders Square\n",
        "    def render(self):\n",
        "        print(\"Rendering Square...\")\n",
        "\n",
        "class Circle(Polygon):\n",
        "    # renders circle\n",
        "    def render(self):\n",
        "        print(\"Rendering Circle...\")\n",
        "\n",
        "# create an object of Square\n",
        "s1 = Square()\n",
        "s1.render()\n",
        "\n",
        "# create an object of Circle\n",
        "c1 = Circle()\n",
        "c1.render()"
      ],
      "metadata": {
        "colab": {
          "base_uri": "https://localhost:8080/"
        },
        "id": "rTlt7t-1F9aQ",
        "outputId": "34282f6e-a83b-4087-824f-0af5c4ce3108"
      },
      "execution_count": 3,
      "outputs": [
        {
          "output_type": "stream",
          "name": "stdout",
          "text": [
            "Rendering Square...\n",
            "Rendering Circle...\n"
          ]
        }
      ]
    },
    {
      "cell_type": "code",
      "source": [
        "#Class and Object\n",
        "\n",
        "class Parrot:\n",
        "\n",
        "    # class attribute\n",
        "    name = \"\"\n",
        "    age = 0\n",
        "\n",
        "# create parrot1 object\n",
        "parrot1 = Parrot()\n",
        "parrot1.name = \"Blu\"\n",
        "parrot1.age = 10\n",
        "\n",
        "# create another object parrot2\n",
        "parrot2 = Parrot()\n",
        "parrot2.name = \"Woo\"\n",
        "parrot2.age = 15\n",
        "\n",
        "# access attributes\n",
        "print(f\"{parrot1.name} is {parrot1.age} years old\")\n",
        "print(f\"{parrot2.name} is {parrot2.age} years old\")"
      ],
      "metadata": {
        "colab": {
          "base_uri": "https://localhost:8080/"
        },
        "id": "rWUbaoYvGGy6",
        "outputId": "b6862f8d-ca86-449c-a02c-5b3fbdb94a80"
      },
      "execution_count": 5,
      "outputs": [
        {
          "output_type": "stream",
          "name": "stdout",
          "text": [
            "Blu is 10 years old\n",
            "Woo is 15 years old\n"
          ]
        }
      ]
    },
    {
      "cell_type": "code",
      "source": [
        "#SETS\n",
        "set1 = set()\n",
        "print(\"Initial blank Set: \")\n",
        "print(set1)\n",
        "set1 = set(\"ANJANA K AJEEV\")\n",
        "print(\"\\nSet with the use of String: \")\n",
        "print(set1)\n",
        "set1 = set([\"ANJANA\", \"K\", \"AJEEV\"])\n",
        "print(\"\\nSet with the use of List: \")\n",
        "print(set1)\n",
        "set1 = set([1, 2, 'ANJANA', 4, 'K', 6, 'AJEEV'])\n",
        "print(\"\\nSet with the use of Mixed Values\")\n",
        "print(set1)"
      ],
      "metadata": {
        "colab": {
          "base_uri": "https://localhost:8080/"
        },
        "id": "1G4kbAU2GOTx",
        "outputId": "0975be8f-6868-43ac-df23-a34ad846cb25"
      },
      "execution_count": 6,
      "outputs": [
        {
          "output_type": "stream",
          "name": "stdout",
          "text": [
            "Initial blank Set: \n",
            "set()\n",
            "\n",
            "Set with the use of String: \n",
            "{'J', 'V', 'E', 'K', ' ', 'N', 'A'}\n",
            "\n",
            "Set with the use of List: \n",
            "{'AJEEV', 'K', 'ANJANA'}\n",
            "\n",
            "Set with the use of Mixed Values\n",
            "{1, 2, 4, 6, 'AJEEV', 'ANJANA', 'K'}\n"
          ]
        }
      ]
    },
    {
      "cell_type": "code",
      "source": [
        "#DICTIONARY\n",
        "\n",
        "Dict = {}\n",
        "print(\"Empty Dictionary: \")\n",
        "print(Dict)\n",
        "Dict = {1: 'ANJANA', 2: 'K', 3: 'AJEEV'}\n",
        "print(\"\\nDictionary with the use of Integer Keys: \")\n",
        "print(Dict)\n",
        "Dict = {'Name': 'ANJANA', 1: [1, 2, 3, 4]}\n",
        "print(\"\\nDictionary with the use of Mixed Keys: \")\n",
        "print(Dict)\n",
        "Dict = dict({1: 'ANJANA', 2: 'K', 3: 'AJEEV'})\n",
        "print(\"\\nDictionary with the use of dict(): \")\n",
        "print(Dict)\n",
        "Dict = dict([(1, 'ANJANA'), (2, 'AJEEV')])\n",
        "print(\"\\nDictionary with each item as a pair: \")\n",
        "print(Dict)\n"
      ],
      "metadata": {
        "colab": {
          "base_uri": "https://localhost:8080/"
        },
        "id": "Xu19HvLxGWju",
        "outputId": "364167ff-3c15-49c3-87d9-6c41349e1db7"
      },
      "execution_count": 7,
      "outputs": [
        {
          "output_type": "stream",
          "name": "stdout",
          "text": [
            "Empty Dictionary: \n",
            "{}\n",
            "\n",
            "Dictionary with the use of Integer Keys: \n",
            "{1: 'ANJANA', 2: 'K', 3: 'AJEEV'}\n",
            "\n",
            "Dictionary with the use of Mixed Keys: \n",
            "{'Name': 'ANJANA', 1: [1, 2, 3, 4]}\n",
            "\n",
            "Dictionary with the use of dict(): \n",
            "{1: 'ANJANA', 2: 'K', 3: 'AJEEV'}\n",
            "\n",
            "Dictionary with each item as a pair: \n",
            "{1: 'ANJANA', 2: 'AJEEV'}\n"
          ]
        }
      ]
    },
    {
      "cell_type": "code",
      "source": [
        "#TUPLES\n",
        "tuple1 = tuple([1, 2, 3, 4, 5])\n",
        "print(\"First element of tuple\")\n",
        "print(tuple1[0])\n",
        "print(\"\\nLast element of tuple\")\n",
        "print(tuple1[-1])\n",
        "\n",
        "print(\"\\nThird last element of tuple\")\n",
        "print(tuple1[-3])"
      ],
      "metadata": {
        "colab": {
          "base_uri": "https://localhost:8080/"
        },
        "id": "k1ZXejDVGKwG",
        "outputId": "3f08b580-5324-4e9d-e9e6-31df02dc3139"
      },
      "execution_count": 4,
      "outputs": [
        {
          "output_type": "stream",
          "name": "stdout",
          "text": [
            "First element of tuple\n",
            "1\n",
            "\n",
            "Last element of tuple\n",
            "5\n",
            "\n",
            "Third last element of tuple\n",
            "3\n"
          ]
        }
      ]
    }
  ]
}